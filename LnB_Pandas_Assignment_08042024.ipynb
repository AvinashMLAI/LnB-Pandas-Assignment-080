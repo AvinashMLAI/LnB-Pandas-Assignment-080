{
  "nbformat": 4,
  "nbformat_minor": 0,
  "metadata": {
    "colab": {
      "provenance": []
    },
    "kernelspec": {
      "name": "python3",
      "display_name": "Python 3"
    },
    "language_info": {
      "name": "python"
    }
  },
  "cells": [
    {
      "cell_type": "code",
      "execution_count": 1,
      "metadata": {
        "id": "Y3fhLk34MdNq"
      },
      "outputs": [],
      "source": [
        "import pandas as pd\n",
        "import numpy as np"
      ]
    },
    {
      "cell_type": "code",
      "source": [
        "# Creating a dummy dataset\n",
        "data = {\n",
        "'Name': ['Alice', 'Bob', 'Charlie', 'David', 'Eve'],\n",
        "'Age': [25, 30, 35, 40, 45],\n",
        "'Salary': [50000, 60000, 70000, 80000, 90000],\n",
        "'Department': ['HR', 'IT', 'Finance', 'HR', 'IT'],\n",
        "'Start_Date': pd.to_datetime(['2020-01-01', '2019-03-15', '2021-05-20', '2018-09-10', '2022-02-28']),\n",
        "'Experience': [5, 10, 3, 15, 2],\n",
        "'Rating': [4.2, 3.8, 4.5, 4.0, 4.7]\n",
        "}"
      ],
      "metadata": {
        "id": "nCS0J1-xMl-w"
      },
      "execution_count": 8,
      "outputs": []
    },
    {
      "cell_type": "code",
      "source": [
        "df = pd.DataFrame(data)\n",
        "df"
      ],
      "metadata": {
        "colab": {
          "base_uri": "https://localhost:8080/",
          "height": 206
        },
        "id": "s-MAhKjMMrcq",
        "outputId": "ccd76a4f-e60f-4ad2-b471-244c6dbd85da"
      },
      "execution_count": 11,
      "outputs": [
        {
          "output_type": "execute_result",
          "data": {
            "text/plain": [
              "      Name  Age  Salary Department Start_Date  Experience  Rating\n",
              "0    Alice   25   50000         HR 2020-01-01           5     4.2\n",
              "1      Bob   30   60000         IT 2019-03-15          10     3.8\n",
              "2  Charlie   35   70000    Finance 2021-05-20           3     4.5\n",
              "3    David   40   80000         HR 2018-09-10          15     4.0\n",
              "4      Eve   45   90000         IT 2022-02-28           2     4.7"
            ],
            "text/html": [
              "\n",
              "  <div id=\"df-143a8466-5e60-43ce-a1ff-df30af89f05e\" class=\"colab-df-container\">\n",
              "    <div>\n",
              "<style scoped>\n",
              "    .dataframe tbody tr th:only-of-type {\n",
              "        vertical-align: middle;\n",
              "    }\n",
              "\n",
              "    .dataframe tbody tr th {\n",
              "        vertical-align: top;\n",
              "    }\n",
              "\n",
              "    .dataframe thead th {\n",
              "        text-align: right;\n",
              "    }\n",
              "</style>\n",
              "<table border=\"1\" class=\"dataframe\">\n",
              "  <thead>\n",
              "    <tr style=\"text-align: right;\">\n",
              "      <th></th>\n",
              "      <th>Name</th>\n",
              "      <th>Age</th>\n",
              "      <th>Salary</th>\n",
              "      <th>Department</th>\n",
              "      <th>Start_Date</th>\n",
              "      <th>Experience</th>\n",
              "      <th>Rating</th>\n",
              "    </tr>\n",
              "  </thead>\n",
              "  <tbody>\n",
              "    <tr>\n",
              "      <th>0</th>\n",
              "      <td>Alice</td>\n",
              "      <td>25</td>\n",
              "      <td>50000</td>\n",
              "      <td>HR</td>\n",
              "      <td>2020-01-01</td>\n",
              "      <td>5</td>\n",
              "      <td>4.2</td>\n",
              "    </tr>\n",
              "    <tr>\n",
              "      <th>1</th>\n",
              "      <td>Bob</td>\n",
              "      <td>30</td>\n",
              "      <td>60000</td>\n",
              "      <td>IT</td>\n",
              "      <td>2019-03-15</td>\n",
              "      <td>10</td>\n",
              "      <td>3.8</td>\n",
              "    </tr>\n",
              "    <tr>\n",
              "      <th>2</th>\n",
              "      <td>Charlie</td>\n",
              "      <td>35</td>\n",
              "      <td>70000</td>\n",
              "      <td>Finance</td>\n",
              "      <td>2021-05-20</td>\n",
              "      <td>3</td>\n",
              "      <td>4.5</td>\n",
              "    </tr>\n",
              "    <tr>\n",
              "      <th>3</th>\n",
              "      <td>David</td>\n",
              "      <td>40</td>\n",
              "      <td>80000</td>\n",
              "      <td>HR</td>\n",
              "      <td>2018-09-10</td>\n",
              "      <td>15</td>\n",
              "      <td>4.0</td>\n",
              "    </tr>\n",
              "    <tr>\n",
              "      <th>4</th>\n",
              "      <td>Eve</td>\n",
              "      <td>45</td>\n",
              "      <td>90000</td>\n",
              "      <td>IT</td>\n",
              "      <td>2022-02-28</td>\n",
              "      <td>2</td>\n",
              "      <td>4.7</td>\n",
              "    </tr>\n",
              "  </tbody>\n",
              "</table>\n",
              "</div>\n",
              "    <div class=\"colab-df-buttons\">\n",
              "\n",
              "  <div class=\"colab-df-container\">\n",
              "    <button class=\"colab-df-convert\" onclick=\"convertToInteractive('df-143a8466-5e60-43ce-a1ff-df30af89f05e')\"\n",
              "            title=\"Convert this dataframe to an interactive table.\"\n",
              "            style=\"display:none;\">\n",
              "\n",
              "  <svg xmlns=\"http://www.w3.org/2000/svg\" height=\"24px\" viewBox=\"0 -960 960 960\">\n",
              "    <path d=\"M120-120v-720h720v720H120Zm60-500h600v-160H180v160Zm220 220h160v-160H400v160Zm0 220h160v-160H400v160ZM180-400h160v-160H180v160Zm440 0h160v-160H620v160ZM180-180h160v-160H180v160Zm440 0h160v-160H620v160Z\"/>\n",
              "  </svg>\n",
              "    </button>\n",
              "\n",
              "  <style>\n",
              "    .colab-df-container {\n",
              "      display:flex;\n",
              "      gap: 12px;\n",
              "    }\n",
              "\n",
              "    .colab-df-convert {\n",
              "      background-color: #E8F0FE;\n",
              "      border: none;\n",
              "      border-radius: 50%;\n",
              "      cursor: pointer;\n",
              "      display: none;\n",
              "      fill: #1967D2;\n",
              "      height: 32px;\n",
              "      padding: 0 0 0 0;\n",
              "      width: 32px;\n",
              "    }\n",
              "\n",
              "    .colab-df-convert:hover {\n",
              "      background-color: #E2EBFA;\n",
              "      box-shadow: 0px 1px 2px rgba(60, 64, 67, 0.3), 0px 1px 3px 1px rgba(60, 64, 67, 0.15);\n",
              "      fill: #174EA6;\n",
              "    }\n",
              "\n",
              "    .colab-df-buttons div {\n",
              "      margin-bottom: 4px;\n",
              "    }\n",
              "\n",
              "    [theme=dark] .colab-df-convert {\n",
              "      background-color: #3B4455;\n",
              "      fill: #D2E3FC;\n",
              "    }\n",
              "\n",
              "    [theme=dark] .colab-df-convert:hover {\n",
              "      background-color: #434B5C;\n",
              "      box-shadow: 0px 1px 3px 1px rgba(0, 0, 0, 0.15);\n",
              "      filter: drop-shadow(0px 1px 2px rgba(0, 0, 0, 0.3));\n",
              "      fill: #FFFFFF;\n",
              "    }\n",
              "  </style>\n",
              "\n",
              "    <script>\n",
              "      const buttonEl =\n",
              "        document.querySelector('#df-143a8466-5e60-43ce-a1ff-df30af89f05e button.colab-df-convert');\n",
              "      buttonEl.style.display =\n",
              "        google.colab.kernel.accessAllowed ? 'block' : 'none';\n",
              "\n",
              "      async function convertToInteractive(key) {\n",
              "        const element = document.querySelector('#df-143a8466-5e60-43ce-a1ff-df30af89f05e');\n",
              "        const dataTable =\n",
              "          await google.colab.kernel.invokeFunction('convertToInteractive',\n",
              "                                                    [key], {});\n",
              "        if (!dataTable) return;\n",
              "\n",
              "        const docLinkHtml = 'Like what you see? Visit the ' +\n",
              "          '<a target=\"_blank\" href=https://colab.research.google.com/notebooks/data_table.ipynb>data table notebook</a>'\n",
              "          + ' to learn more about interactive tables.';\n",
              "        element.innerHTML = '';\n",
              "        dataTable['output_type'] = 'display_data';\n",
              "        await google.colab.output.renderOutput(dataTable, element);\n",
              "        const docLink = document.createElement('div');\n",
              "        docLink.innerHTML = docLinkHtml;\n",
              "        element.appendChild(docLink);\n",
              "      }\n",
              "    </script>\n",
              "  </div>\n",
              "\n",
              "\n",
              "<div id=\"df-1860312c-fda1-4d71-927b-6c7b55b48a8e\">\n",
              "  <button class=\"colab-df-quickchart\" onclick=\"quickchart('df-1860312c-fda1-4d71-927b-6c7b55b48a8e')\"\n",
              "            title=\"Suggest charts\"\n",
              "            style=\"display:none;\">\n",
              "\n",
              "<svg xmlns=\"http://www.w3.org/2000/svg\" height=\"24px\"viewBox=\"0 0 24 24\"\n",
              "     width=\"24px\">\n",
              "    <g>\n",
              "        <path d=\"M19 3H5c-1.1 0-2 .9-2 2v14c0 1.1.9 2 2 2h14c1.1 0 2-.9 2-2V5c0-1.1-.9-2-2-2zM9 17H7v-7h2v7zm4 0h-2V7h2v10zm4 0h-2v-4h2v4z\"/>\n",
              "    </g>\n",
              "</svg>\n",
              "  </button>\n",
              "\n",
              "<style>\n",
              "  .colab-df-quickchart {\n",
              "      --bg-color: #E8F0FE;\n",
              "      --fill-color: #1967D2;\n",
              "      --hover-bg-color: #E2EBFA;\n",
              "      --hover-fill-color: #174EA6;\n",
              "      --disabled-fill-color: #AAA;\n",
              "      --disabled-bg-color: #DDD;\n",
              "  }\n",
              "\n",
              "  [theme=dark] .colab-df-quickchart {\n",
              "      --bg-color: #3B4455;\n",
              "      --fill-color: #D2E3FC;\n",
              "      --hover-bg-color: #434B5C;\n",
              "      --hover-fill-color: #FFFFFF;\n",
              "      --disabled-bg-color: #3B4455;\n",
              "      --disabled-fill-color: #666;\n",
              "  }\n",
              "\n",
              "  .colab-df-quickchart {\n",
              "    background-color: var(--bg-color);\n",
              "    border: none;\n",
              "    border-radius: 50%;\n",
              "    cursor: pointer;\n",
              "    display: none;\n",
              "    fill: var(--fill-color);\n",
              "    height: 32px;\n",
              "    padding: 0;\n",
              "    width: 32px;\n",
              "  }\n",
              "\n",
              "  .colab-df-quickchart:hover {\n",
              "    background-color: var(--hover-bg-color);\n",
              "    box-shadow: 0 1px 2px rgba(60, 64, 67, 0.3), 0 1px 3px 1px rgba(60, 64, 67, 0.15);\n",
              "    fill: var(--button-hover-fill-color);\n",
              "  }\n",
              "\n",
              "  .colab-df-quickchart-complete:disabled,\n",
              "  .colab-df-quickchart-complete:disabled:hover {\n",
              "    background-color: var(--disabled-bg-color);\n",
              "    fill: var(--disabled-fill-color);\n",
              "    box-shadow: none;\n",
              "  }\n",
              "\n",
              "  .colab-df-spinner {\n",
              "    border: 2px solid var(--fill-color);\n",
              "    border-color: transparent;\n",
              "    border-bottom-color: var(--fill-color);\n",
              "    animation:\n",
              "      spin 1s steps(1) infinite;\n",
              "  }\n",
              "\n",
              "  @keyframes spin {\n",
              "    0% {\n",
              "      border-color: transparent;\n",
              "      border-bottom-color: var(--fill-color);\n",
              "      border-left-color: var(--fill-color);\n",
              "    }\n",
              "    20% {\n",
              "      border-color: transparent;\n",
              "      border-left-color: var(--fill-color);\n",
              "      border-top-color: var(--fill-color);\n",
              "    }\n",
              "    30% {\n",
              "      border-color: transparent;\n",
              "      border-left-color: var(--fill-color);\n",
              "      border-top-color: var(--fill-color);\n",
              "      border-right-color: var(--fill-color);\n",
              "    }\n",
              "    40% {\n",
              "      border-color: transparent;\n",
              "      border-right-color: var(--fill-color);\n",
              "      border-top-color: var(--fill-color);\n",
              "    }\n",
              "    60% {\n",
              "      border-color: transparent;\n",
              "      border-right-color: var(--fill-color);\n",
              "    }\n",
              "    80% {\n",
              "      border-color: transparent;\n",
              "      border-right-color: var(--fill-color);\n",
              "      border-bottom-color: var(--fill-color);\n",
              "    }\n",
              "    90% {\n",
              "      border-color: transparent;\n",
              "      border-bottom-color: var(--fill-color);\n",
              "    }\n",
              "  }\n",
              "</style>\n",
              "\n",
              "  <script>\n",
              "    async function quickchart(key) {\n",
              "      const quickchartButtonEl =\n",
              "        document.querySelector('#' + key + ' button');\n",
              "      quickchartButtonEl.disabled = true;  // To prevent multiple clicks.\n",
              "      quickchartButtonEl.classList.add('colab-df-spinner');\n",
              "      try {\n",
              "        const charts = await google.colab.kernel.invokeFunction(\n",
              "            'suggestCharts', [key], {});\n",
              "      } catch (error) {\n",
              "        console.error('Error during call to suggestCharts:', error);\n",
              "      }\n",
              "      quickchartButtonEl.classList.remove('colab-df-spinner');\n",
              "      quickchartButtonEl.classList.add('colab-df-quickchart-complete');\n",
              "    }\n",
              "    (() => {\n",
              "      let quickchartButtonEl =\n",
              "        document.querySelector('#df-1860312c-fda1-4d71-927b-6c7b55b48a8e button');\n",
              "      quickchartButtonEl.style.display =\n",
              "        google.colab.kernel.accessAllowed ? 'block' : 'none';\n",
              "    })();\n",
              "  </script>\n",
              "</div>\n",
              "\n",
              "  <div id=\"id_7e4613cb-bda0-4ee3-9b77-bb4d69cbd9cd\">\n",
              "    <style>\n",
              "      .colab-df-generate {\n",
              "        background-color: #E8F0FE;\n",
              "        border: none;\n",
              "        border-radius: 50%;\n",
              "        cursor: pointer;\n",
              "        display: none;\n",
              "        fill: #1967D2;\n",
              "        height: 32px;\n",
              "        padding: 0 0 0 0;\n",
              "        width: 32px;\n",
              "      }\n",
              "\n",
              "      .colab-df-generate:hover {\n",
              "        background-color: #E2EBFA;\n",
              "        box-shadow: 0px 1px 2px rgba(60, 64, 67, 0.3), 0px 1px 3px 1px rgba(60, 64, 67, 0.15);\n",
              "        fill: #174EA6;\n",
              "      }\n",
              "\n",
              "      [theme=dark] .colab-df-generate {\n",
              "        background-color: #3B4455;\n",
              "        fill: #D2E3FC;\n",
              "      }\n",
              "\n",
              "      [theme=dark] .colab-df-generate:hover {\n",
              "        background-color: #434B5C;\n",
              "        box-shadow: 0px 1px 3px 1px rgba(0, 0, 0, 0.15);\n",
              "        filter: drop-shadow(0px 1px 2px rgba(0, 0, 0, 0.3));\n",
              "        fill: #FFFFFF;\n",
              "      }\n",
              "    </style>\n",
              "    <button class=\"colab-df-generate\" onclick=\"generateWithVariable('df')\"\n",
              "            title=\"Generate code using this dataframe.\"\n",
              "            style=\"display:none;\">\n",
              "\n",
              "  <svg xmlns=\"http://www.w3.org/2000/svg\" height=\"24px\"viewBox=\"0 0 24 24\"\n",
              "       width=\"24px\">\n",
              "    <path d=\"M7,19H8.4L18.45,9,17,7.55,7,17.6ZM5,21V16.75L18.45,3.32a2,2,0,0,1,2.83,0l1.4,1.43a1.91,1.91,0,0,1,.58,1.4,1.91,1.91,0,0,1-.58,1.4L9.25,21ZM18.45,9,17,7.55Zm-12,3A5.31,5.31,0,0,0,4.9,8.1,5.31,5.31,0,0,0,1,6.5,5.31,5.31,0,0,0,4.9,4.9,5.31,5.31,0,0,0,6.5,1,5.31,5.31,0,0,0,8.1,4.9,5.31,5.31,0,0,0,12,6.5,5.46,5.46,0,0,0,6.5,12Z\"/>\n",
              "  </svg>\n",
              "    </button>\n",
              "    <script>\n",
              "      (() => {\n",
              "      const buttonEl =\n",
              "        document.querySelector('#id_7e4613cb-bda0-4ee3-9b77-bb4d69cbd9cd button.colab-df-generate');\n",
              "      buttonEl.style.display =\n",
              "        google.colab.kernel.accessAllowed ? 'block' : 'none';\n",
              "\n",
              "      buttonEl.onclick = () => {\n",
              "        google.colab.notebook.generateWithVariable('df');\n",
              "      }\n",
              "      })();\n",
              "    </script>\n",
              "  </div>\n",
              "\n",
              "    </div>\n",
              "  </div>\n"
            ],
            "application/vnd.google.colaboratory.intrinsic+json": {
              "type": "dataframe",
              "variable_name": "df",
              "summary": "{\n  \"name\": \"df\",\n  \"rows\": 5,\n  \"fields\": [\n    {\n      \"column\": \"Name\",\n      \"properties\": {\n        \"dtype\": \"string\",\n        \"num_unique_values\": 5,\n        \"samples\": [\n          \"Bob\",\n          \"Eve\",\n          \"Charlie\"\n        ],\n        \"semantic_type\": \"\",\n        \"description\": \"\"\n      }\n    },\n    {\n      \"column\": \"Age\",\n      \"properties\": {\n        \"dtype\": \"number\",\n        \"std\": 7,\n        \"min\": 25,\n        \"max\": 45,\n        \"num_unique_values\": 5,\n        \"samples\": [\n          30,\n          45,\n          35\n        ],\n        \"semantic_type\": \"\",\n        \"description\": \"\"\n      }\n    },\n    {\n      \"column\": \"Salary\",\n      \"properties\": {\n        \"dtype\": \"number\",\n        \"std\": 15811,\n        \"min\": 50000,\n        \"max\": 90000,\n        \"num_unique_values\": 5,\n        \"samples\": [\n          60000,\n          90000,\n          70000\n        ],\n        \"semantic_type\": \"\",\n        \"description\": \"\"\n      }\n    },\n    {\n      \"column\": \"Department\",\n      \"properties\": {\n        \"dtype\": \"string\",\n        \"num_unique_values\": 3,\n        \"samples\": [\n          \"HR\",\n          \"IT\",\n          \"Finance\"\n        ],\n        \"semantic_type\": \"\",\n        \"description\": \"\"\n      }\n    },\n    {\n      \"column\": \"Start_Date\",\n      \"properties\": {\n        \"dtype\": \"date\",\n        \"min\": \"2018-09-10 00:00:00\",\n        \"max\": \"2022-02-28 00:00:00\",\n        \"num_unique_values\": 5,\n        \"samples\": [\n          \"2019-03-15 00:00:00\",\n          \"2022-02-28 00:00:00\",\n          \"2021-05-20 00:00:00\"\n        ],\n        \"semantic_type\": \"\",\n        \"description\": \"\"\n      }\n    },\n    {\n      \"column\": \"Experience\",\n      \"properties\": {\n        \"dtype\": \"number\",\n        \"std\": 5,\n        \"min\": 2,\n        \"max\": 15,\n        \"num_unique_values\": 5,\n        \"samples\": [\n          10,\n          2,\n          3\n        ],\n        \"semantic_type\": \"\",\n        \"description\": \"\"\n      }\n    },\n    {\n      \"column\": \"Rating\",\n      \"properties\": {\n        \"dtype\": \"number\",\n        \"std\": 0.36469165057620945,\n        \"min\": 3.8,\n        \"max\": 4.7,\n        \"num_unique_values\": 5,\n        \"samples\": [\n          3.8,\n          4.7,\n          4.5\n        ],\n        \"semantic_type\": \"\",\n        \"description\": \"\"\n      }\n    }\n  ]\n}"
            }
          },
          "metadata": {},
          "execution_count": 11
        }
      ]
    },
    {
      "cell_type": "markdown",
      "source": [
        "Question 1: Selecting a Subset of the DataFrame\n",
        "\n",
        "Let's select employees who are older than 30:"
      ],
      "metadata": {
        "id": "X8zqZXeKNkqB"
      }
    },
    {
      "cell_type": "code",
      "source": [
        "subset = df[df['Age'] > 30]\n",
        "print(subset)"
      ],
      "metadata": {
        "colab": {
          "base_uri": "https://localhost:8080/"
        },
        "id": "AhIXFk3XNo_n",
        "outputId": "ef3d9bf6-d60f-4bc6-9831-4eea0033a0c9"
      },
      "execution_count": 12,
      "outputs": [
        {
          "output_type": "stream",
          "name": "stdout",
          "text": [
            "      Name  Age  Salary Department Start_Date  Experience  Rating\n",
            "2  Charlie   35   70000    Finance 2021-05-20           3     4.5\n",
            "3    David   40   80000         HR 2018-09-10          15     4.0\n",
            "4      Eve   45   90000         IT 2022-02-28           2     4.7\n"
          ]
        }
      ]
    },
    {
      "cell_type": "markdown",
      "source": [
        "Question 2: Creating New Columns Derived from Existing Columns\n",
        "\n",
        "Let's create a new column called \"Age_Group\" based on the age of the employees:"
      ],
      "metadata": {
        "id": "a5w7T4GONx38"
      }
    },
    {
      "cell_type": "code",
      "source": [
        "df['Age_Group'] = np.where(df['Age'] > 30, 'Above 30', '30 and Below')\n",
        "print(df)"
      ],
      "metadata": {
        "colab": {
          "base_uri": "https://localhost:8080/"
        },
        "id": "pqI6kW1xN3mt",
        "outputId": "df334f2d-9c00-47d8-87c4-c7b2f772ea60"
      },
      "execution_count": 13,
      "outputs": [
        {
          "output_type": "stream",
          "name": "stdout",
          "text": [
            "      Name  Age  Salary Department Start_Date  Experience  Rating  \\\n",
            "0    Alice   25   50000         HR 2020-01-01           5     4.2   \n",
            "1      Bob   30   60000         IT 2019-03-15          10     3.8   \n",
            "2  Charlie   35   70000    Finance 2021-05-20           3     4.5   \n",
            "3    David   40   80000         HR 2018-09-10          15     4.0   \n",
            "4      Eve   45   90000         IT 2022-02-28           2     4.7   \n",
            "\n",
            "      Age_Group  \n",
            "0  30 and Below  \n",
            "1  30 and Below  \n",
            "2      Above 30  \n",
            "3      Above 30  \n",
            "4      Above 30  \n"
          ]
        }
      ]
    },
    {
      "cell_type": "markdown",
      "source": [
        "Question 3: Calculating Summary Statistics\n",
        "\n",
        "Let's calculate summary statistics for the numerical columns in the DataFrame:"
      ],
      "metadata": {
        "id": "Tee2uxl9OIel"
      }
    },
    {
      "cell_type": "code",
      "source": [
        "summary_stats = df.describe()\n",
        "print(summary_stats)"
      ],
      "metadata": {
        "colab": {
          "base_uri": "https://localhost:8080/"
        },
        "id": "8jzDC-bMOOBa",
        "outputId": "cd668181-bad1-4ed4-ab7e-32be3cec9f98"
      },
      "execution_count": 14,
      "outputs": [
        {
          "output_type": "stream",
          "name": "stdout",
          "text": [
            "             Age        Salary           Start_Date  Experience    Rating\n",
            "count   5.000000      5.000000                    5     5.00000  5.000000\n",
            "mean   35.000000  70000.000000  2020-04-14 19:12:00     7.00000  4.240000\n",
            "min    25.000000  50000.000000  2018-09-10 00:00:00     2.00000  3.800000\n",
            "25%    30.000000  60000.000000  2019-03-15 00:00:00     3.00000  4.000000\n",
            "50%    35.000000  70000.000000  2020-01-01 00:00:00     5.00000  4.200000\n",
            "75%    40.000000  80000.000000  2021-05-20 00:00:00    10.00000  4.500000\n",
            "max    45.000000  90000.000000  2022-02-28 00:00:00    15.00000  4.700000\n",
            "std     7.905694  15811.388301                  NaN     5.43139  0.364692\n"
          ]
        }
      ]
    },
    {
      "cell_type": "markdown",
      "source": [
        "Question 4: Reshaping the Layout of Tables\n",
        "\n",
        "Let's reshape the DataFrame to have \"Name\" as the index and \"Department\" as columns, with\n",
        "\"Salary\" as values:"
      ],
      "metadata": {
        "id": "Eg14lWXsOO9l"
      }
    },
    {
      "cell_type": "code",
      "source": [
        "reshaped_df = df.pivot_table(index='Name', columns='Department', values='Salary')\n",
        "print(reshaped_df)"
      ],
      "metadata": {
        "colab": {
          "base_uri": "https://localhost:8080/"
        },
        "id": "O8kmVqGnOVGR",
        "outputId": "c6eb7798-a97c-407f-c94a-79fc968d4fff"
      },
      "execution_count": 15,
      "outputs": [
        {
          "output_type": "stream",
          "name": "stdout",
          "text": [
            "Department  Finance       HR       IT\n",
            "Name                                 \n",
            "Alice           NaN  50000.0      NaN\n",
            "Bob             NaN      NaN  60000.0\n",
            "Charlie     70000.0      NaN      NaN\n",
            "David           NaN  80000.0      NaN\n",
            "Eve             NaN      NaN  90000.0\n"
          ]
        }
      ]
    },
    {
      "cell_type": "markdown",
      "source": [
        "Question 5: Combining Data from Multiple Tables\n",
        "\n",
        "Let's create another DataFrame with bonus information and merge it with the original\n",
        "DataFrame:"
      ],
      "metadata": {
        "id": "zqcjtAD1OVkB"
      }
    },
    {
      "cell_type": "code",
      "source": [
        "# Creating another DataFrame with bonus information\n",
        "bonus_data = {\n",
        "    'Name': ['Alice', 'Bob', 'Charlie', 'David', 'Eve'],\n",
        "    'Bonus': [5000, 7000, 9000, 8000, 5000]\n",
        "}\n",
        "bonus_df = pd.DataFrame(bonus_data)\n",
        "\n",
        "# Merging bonus information with the original DataFrame\n",
        "merged_df = pd.merge(df, bonus_df, on='Name')\n",
        "print(merged_df)\n"
      ],
      "metadata": {
        "colab": {
          "base_uri": "https://localhost:8080/"
        },
        "id": "LrcUWZY3Obzo",
        "outputId": "fede334e-4bc5-4e59-d4e9-fc444d90285f"
      },
      "execution_count": 16,
      "outputs": [
        {
          "output_type": "stream",
          "name": "stdout",
          "text": [
            "      Name  Age  Salary Department Start_Date  Experience  Rating  \\\n",
            "0    Alice   25   50000         HR 2020-01-01           5     4.2   \n",
            "1      Bob   30   60000         IT 2019-03-15          10     3.8   \n",
            "2  Charlie   35   70000    Finance 2021-05-20           3     4.5   \n",
            "3    David   40   80000         HR 2018-09-10          15     4.0   \n",
            "4      Eve   45   90000         IT 2022-02-28           2     4.7   \n",
            "\n",
            "      Age_Group  Bonus  \n",
            "0  30 and Below   5000  \n",
            "1  30 and Below   7000  \n",
            "2      Above 30   9000  \n",
            "3      Above 30   8000  \n",
            "4      Above 30   5000  \n"
          ]
        }
      ]
    },
    {
      "cell_type": "markdown",
      "source": [
        "Question 6: Manipulating Textual Data\n",
        "\n",
        "Let's create a new column based on the length of the employee's name:"
      ],
      "metadata": {
        "id": "6n77TR_2OcUn"
      }
    },
    {
      "cell_type": "code",
      "source": [
        "df['Name_Length'] = df['Name'].apply(len)\n",
        "print(df)"
      ],
      "metadata": {
        "colab": {
          "base_uri": "https://localhost:8080/"
        },
        "id": "9LoNebiqOgOn",
        "outputId": "373a60f0-0f14-4a8c-c19c-69b6189e2e90"
      },
      "execution_count": 17,
      "outputs": [
        {
          "output_type": "stream",
          "name": "stdout",
          "text": [
            "      Name  Age  Salary Department Start_Date  Experience  Rating  \\\n",
            "0    Alice   25   50000         HR 2020-01-01           5     4.2   \n",
            "1      Bob   30   60000         IT 2019-03-15          10     3.8   \n",
            "2  Charlie   35   70000    Finance 2021-05-20           3     4.5   \n",
            "3    David   40   80000         HR 2018-09-10          15     4.0   \n",
            "4      Eve   45   90000         IT 2022-02-28           2     4.7   \n",
            "\n",
            "      Age_Group  Name_Length  \n",
            "0  30 and Below            5  \n",
            "1  30 and Below            3  \n",
            "2      Above 30            7  \n",
            "3      Above 30            5  \n",
            "4      Above 30            3  \n"
          ]
        }
      ]
    },
    {
      "cell_type": "markdown",
      "source": [
        "Question 7: Filtering Data Based on Multiple Conditions\n",
        "\n",
        "Let's filter the DataFrame to include only employees from the IT department who are older\n",
        "than 30:"
      ],
      "metadata": {
        "id": "OMby_ZoPOglr"
      }
    },
    {
      "cell_type": "code",
      "source": [
        "filtered_df = df[(df['Department'] == 'IT') & (df['Age'] > 30)]\n",
        "print(filtered_df)"
      ],
      "metadata": {
        "colab": {
          "base_uri": "https://localhost:8080/"
        },
        "id": "XbWdVc5FOkzS",
        "outputId": "21642a83-b6de-4327-b5e9-00b2ad8a7a46"
      },
      "execution_count": 18,
      "outputs": [
        {
          "output_type": "stream",
          "name": "stdout",
          "text": [
            "  Name  Age  Salary Department Start_Date  Experience  Rating Age_Group  \\\n",
            "4  Eve   45   90000         IT 2022-02-28           2     4.7  Above 30   \n",
            "\n",
            "   Name_Length  \n",
            "4            3  \n"
          ]
        }
      ]
    },
    {
      "cell_type": "markdown",
      "source": [
        "Question 8: Creating a New Column Based on Conditions\n",
        "\n",
        "Let's create a new column called \"Performance\" based on the employee's rating:"
      ],
      "metadata": {
        "id": "HUfL-jMeOlWJ"
      }
    },
    {
      "cell_type": "code",
      "source": [
        "df['Performance'] = np.where(df['Rating'] > 4.0, 'High', 'Low')\n",
        "print(df)"
      ],
      "metadata": {
        "colab": {
          "base_uri": "https://localhost:8080/"
        },
        "id": "HdWGx2EoOrYB",
        "outputId": "be68359e-65af-4d11-989f-f06afbea3d76"
      },
      "execution_count": 19,
      "outputs": [
        {
          "output_type": "stream",
          "name": "stdout",
          "text": [
            "      Name  Age  Salary Department Start_Date  Experience  Rating  \\\n",
            "0    Alice   25   50000         HR 2020-01-01           5     4.2   \n",
            "1      Bob   30   60000         IT 2019-03-15          10     3.8   \n",
            "2  Charlie   35   70000    Finance 2021-05-20           3     4.5   \n",
            "3    David   40   80000         HR 2018-09-10          15     4.0   \n",
            "4      Eve   45   90000         IT 2022-02-28           2     4.7   \n",
            "\n",
            "      Age_Group  Name_Length Performance  \n",
            "0  30 and Below            5        High  \n",
            "1  30 and Below            3         Low  \n",
            "2      Above 30            7        High  \n",
            "3      Above 30            5         Low  \n",
            "4      Above 30            3        High  \n"
          ]
        }
      ]
    },
    {
      "cell_type": "markdown",
      "source": [
        "Question 9: Calculating Group-Wise Summary Statistics\n",
        "\n",
        "Let's calculate the mean salary and experience for each department:"
      ],
      "metadata": {
        "id": "yfokasAQOrzm"
      }
    },
    {
      "cell_type": "code",
      "source": [
        "grouped_stats = df.groupby('Department').agg({'Salary': 'mean', 'Experience': 'mean'})\n",
        "print(grouped_stats)"
      ],
      "metadata": {
        "colab": {
          "base_uri": "https://localhost:8080/"
        },
        "id": "PcXwZBPIOxr2",
        "outputId": "710aec5f-7a33-4dd0-9497-31ceece76eed"
      },
      "execution_count": 20,
      "outputs": [
        {
          "output_type": "stream",
          "name": "stdout",
          "text": [
            "             Salary  Experience\n",
            "Department                     \n",
            "Finance     70000.0         3.0\n",
            "HR          65000.0        10.0\n",
            "IT          75000.0         6.0\n"
          ]
        }
      ]
    },
    {
      "cell_type": "markdown",
      "source": [
        "Question 10: Sorting Data\n",
        "\n",
        "Let's sort the DataFrame by age in descending order:"
      ],
      "metadata": {
        "id": "ZybriLi8OyFx"
      }
    },
    {
      "cell_type": "code",
      "source": [
        "sorted_df = df.sort_values(by='Age', ascending=False)\n",
        "print(sorted_df)"
      ],
      "metadata": {
        "colab": {
          "base_uri": "https://localhost:8080/"
        },
        "id": "2LyAvYmBO4N7",
        "outputId": "a20c8c82-ffa9-49ee-b3b5-32d85fe64cf3"
      },
      "execution_count": 21,
      "outputs": [
        {
          "output_type": "stream",
          "name": "stdout",
          "text": [
            "      Name  Age  Salary Department Start_Date  Experience  Rating  \\\n",
            "4      Eve   45   90000         IT 2022-02-28           2     4.7   \n",
            "3    David   40   80000         HR 2018-09-10          15     4.0   \n",
            "2  Charlie   35   70000    Finance 2021-05-20           3     4.5   \n",
            "1      Bob   30   60000         IT 2019-03-15          10     3.8   \n",
            "0    Alice   25   50000         HR 2020-01-01           5     4.2   \n",
            "\n",
            "      Age_Group  Name_Length Performance  \n",
            "4      Above 30            3        High  \n",
            "3      Above 30            5         Low  \n",
            "2      Above 30            7        High  \n",
            "1  30 and Below            3         Low  \n",
            "0  30 and Below            5        High  \n"
          ]
        }
      ]
    },
    {
      "cell_type": "markdown",
      "source": [
        "Question 11: Concatenating DataFrames\n",
        "\n",
        "Let's create a new DataFrame with additional employee information and concatenate it with\n",
        "the original DataFrame:\n"
      ],
      "metadata": {
        "id": "lg6DheGyO4o8"
      }
    },
    {
      "cell_type": "code",
      "source": [
        "# Creating a new DataFrame with additional employee information\n",
        "additional_data = {\n",
        "    'Name': ['Randhir', 'Avinash' , 'Rushi'],\n",
        "    'Age': [32, 28, 42],\n",
        "    'Salary': [95000, 100000, 150000],\n",
        "    'Department': ['Finance', 'IT','HR'],\n",
        "    'Start_Date': pd.to_datetime(['2018-08-12', '2017-10-25','2019-08-21']),\n",
        "    'Experience': [10, 6, 20],\n",
        "    'Rating': [4.8, 4.3, 4.9]\n",
        "}\n",
        "additional_df = pd.DataFrame(additional_data)\n",
        "\n",
        "# Concatenating additional information with the original DataFrame\n",
        "concatenated_df = pd.concat([df, additional_df], ignore_index=True)\n",
        "print(concatenated_df)\n"
      ],
      "metadata": {
        "colab": {
          "base_uri": "https://localhost:8080/"
        },
        "id": "q9e5XQJAO-wn",
        "outputId": "f0747eff-345b-4470-8aa5-1bfa4ac03907"
      },
      "execution_count": 22,
      "outputs": [
        {
          "output_type": "stream",
          "name": "stdout",
          "text": [
            "      Name  Age  Salary Department Start_Date  Experience  Rating  \\\n",
            "0    Alice   25   50000         HR 2020-01-01           5     4.2   \n",
            "1      Bob   30   60000         IT 2019-03-15          10     3.8   \n",
            "2  Charlie   35   70000    Finance 2021-05-20           3     4.5   \n",
            "3    David   40   80000         HR 2018-09-10          15     4.0   \n",
            "4      Eve   45   90000         IT 2022-02-28           2     4.7   \n",
            "5  Randhir   32   95000    Finance 2018-08-12          10     4.8   \n",
            "6  Avinash   28  100000         IT 2017-10-25           6     4.3   \n",
            "7    Rushi   42  150000         HR 2019-08-21          20     4.9   \n",
            "\n",
            "      Age_Group  Name_Length Performance  \n",
            "0  30 and Below          5.0        High  \n",
            "1  30 and Below          3.0         Low  \n",
            "2      Above 30          7.0        High  \n",
            "3      Above 30          5.0         Low  \n",
            "4      Above 30          3.0        High  \n",
            "5           NaN          NaN         NaN  \n",
            "6           NaN          NaN         NaN  \n",
            "7           NaN          NaN         NaN  \n"
          ]
        }
      ]
    },
    {
      "cell_type": "markdown",
      "source": [
        "Question 12: Handling Missing Data\n",
        "\n",
        "Let's introduce some missing data and fill it with the mean salary:"
      ],
      "metadata": {
        "id": "WF3-xDkxPAFx"
      }
    },
    {
      "cell_type": "code",
      "source": [
        "df.loc[2, 'Salary'] = np.nan\n",
        "df['Salary'].fillna(df['Salary'].mean(), inplace=True)\n",
        "print(df)"
      ],
      "metadata": {
        "colab": {
          "base_uri": "https://localhost:8080/"
        },
        "id": "NWP1ALkuPGWG",
        "outputId": "71494cf4-26ba-4e01-e5a1-aba7ed19185e"
      },
      "execution_count": 23,
      "outputs": [
        {
          "output_type": "stream",
          "name": "stdout",
          "text": [
            "      Name  Age   Salary Department Start_Date  Experience  Rating  \\\n",
            "0    Alice   25  50000.0         HR 2020-01-01           5     4.2   \n",
            "1      Bob   30  60000.0         IT 2019-03-15          10     3.8   \n",
            "2  Charlie   35  70000.0    Finance 2021-05-20           3     4.5   \n",
            "3    David   40  80000.0         HR 2018-09-10          15     4.0   \n",
            "4      Eve   45  90000.0         IT 2022-02-28           2     4.7   \n",
            "\n",
            "      Age_Group  Name_Length Performance  \n",
            "0  30 and Below            5        High  \n",
            "1  30 and Below            3         Low  \n",
            "2      Above 30            7        High  \n",
            "3      Above 30            5         Low  \n",
            "4      Above 30            3        High  \n"
          ]
        }
      ]
    }
  ]
}